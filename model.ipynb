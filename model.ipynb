{
  "nbformat": 4,
  "nbformat_minor": 0,
  "metadata": {
    "colab": {
      "name": "mask1.ipynb",
      "provenance": [],
      "collapsed_sections": [],
      "authorship_tag": "ABX9TyOU6UEMnZFP30F3NgICMcGs",
      "include_colab_link": true
    },
    "kernelspec": {
      "name": "python3",
      "display_name": "Python 3"
    },
    "language_info": {
      "name": "python"
    },
    "accelerator": "GPU"
  },
  "cells": [
    {
      "cell_type": "markdown",
      "metadata": {
        "id": "view-in-github",
        "colab_type": "text"
      },
      "source": [
        "<a href=\"https://colab.research.google.com/github/jaisidhsingh/Real-Time-Face-Mask-Detection/blob/main/model.ipynb\" target=\"_parent\"><img src=\"https://colab.research.google.com/assets/colab-badge.svg\" alt=\"Open In Colab\"/></a>"
      ]
    },
    {
      "cell_type": "code",
      "metadata": {
        "id": "u8Os_UjS1y0z"
      },
      "source": [
        "!pip install -q kaggle"
      ],
      "execution_count": null,
      "outputs": []
    },
    {
      "cell_type": "code",
      "metadata": {
        "id": "hliwvW1F2D6H"
      },
      "source": [
        "from google.colab import files\n",
        "files.upload()"
      ],
      "execution_count": null,
      "outputs": []
    },
    {
      "cell_type": "code",
      "metadata": {
        "id": "5DHba5Hd3DNQ"
      },
      "source": [
        "! mkdir ~/.kaggle\n",
        "! cp kaggle.json ~/.kaggle/\n",
        "! chmod 600 ~/.kaggle/kaggle.json"
      ],
      "execution_count": null,
      "outputs": []
    },
    {
      "cell_type": "code",
      "metadata": {
        "colab": {
          "base_uri": "https://localhost:8080/"
        },
        "id": "1-jhTeFN3S44",
        "outputId": "61195d59-48c2-40b8-bbba-94ee0480050c"
      },
      "source": [
        "!kaggle datasets download -d ashishjangra27/face-mask-12k-images-dataset"
      ],
      "execution_count": null,
      "outputs": [
        {
          "output_type": "stream",
          "text": [
            "Downloading face-mask-12k-images-dataset.zip to /content\n",
            " 95% 314M/330M [00:03<00:00, 72.4MB/s]\n",
            "100% 330M/330M [00:03<00:00, 96.5MB/s]\n"
          ],
          "name": "stdout"
        }
      ]
    },
    {
      "cell_type": "code",
      "metadata": {
        "id": "v3xChwGS3hXA"
      },
      "source": [
        "!unzip face-mask-12k-images-dataset.zip"
      ],
      "execution_count": null,
      "outputs": []
    },
    {
      "cell_type": "code",
      "metadata": {
        "id": "6fTlY0T33o2n"
      },
      "source": [
        "import os\n",
        "import tensorflow as tf\n",
        "import tensorflow.keras as keras\n",
        "import numpy as np\n",
        "import pandas as pd\n",
        "import matplotlib.pyplot as plt\n",
        "import cv2"
      ],
      "execution_count": null,
      "outputs": []
    },
    {
      "cell_type": "code",
      "metadata": {
        "id": "k7icZTP35l4F"
      },
      "source": [
        "dir_type = [\"Train\",\"Test\",\"Validation\"]\n",
        "cat = [\"WithMask\",\"WithoutMask\"]\n",
        "\n",
        "training_data = []\n",
        "test_data = []\n",
        "val_data=[]\n",
        "\n",
        "IMG_SIZE = 100\n",
        "\n",
        "path = \"Face Mask Dataset/\"\n",
        "\n",
        "def create_data():\n",
        "    for item in dir_type:\n",
        "        data_path = path+item\n",
        "        X = []\n",
        "        y = []\n",
        "        for folder in os.listdir(data_path):\n",
        "            if cat.index(folder) == 0:\n",
        "                labels = [1.0, 0.0]\n",
        "            else:\n",
        "                labels = [0.0, 1.0]\n",
        "            for image in os.listdir(data_path+\"/\"+folder):\n",
        "                img = cv2.imread(data_path+\"/\"+folder+\"/\"+image)\n",
        "                # img = cv2.cvtColor(img, cv2.COLOR_BGR2GRAY)\n",
        "                img = cv2.resize(img, (100, 100))\n",
        "                X.append(img)\n",
        "                y.append(labels)\n",
        "            if item == \"Train\":\n",
        "                training_data.append((X, y))\n",
        "            if item==\"Test\":\n",
        "                test_data.append((X, y))\n",
        "            if item==\"Validation\":\n",
        "                val_data.append((X, y))\n",
        "\n",
        "create_data()"
      ],
      "execution_count": null,
      "outputs": []
    },
    {
      "cell_type": "code",
      "metadata": {
        "colab": {
          "base_uri": "https://localhost:8080/"
        },
        "id": "KRJXRkm488Db",
        "outputId": "377e8fd8-61a1-4306-ad07-00250186c412"
      },
      "source": [
        "train_images = np.array(training_data[0][0])/255.0\n",
        "train_images = train_images.reshape((10000, 100, 100,3))\n",
        "train_labels = np.array(training_data[0][1])\n",
        "\n",
        "test_images = np.array(test_data[0][0])/255.0\n",
        "test_images = test_images.reshape(-1, 100, 100, 3)\n",
        "test_labels = np.array(test_data[0][1])\n",
        "\n",
        "val_images = np.array(val_data[0][0])/255.0\n",
        "val_images = val_images.reshape(-1, 100, 100, 3)\n",
        "val_labels = np.array(val_data[0][1])\n",
        "print(train_images.shape)\n",
        "print(test_images.shape)\n",
        "print(val_images.shape)"
      ],
      "execution_count": null,
      "outputs": [
        {
          "output_type": "stream",
          "text": [
            "(10000, 100, 100, 3)\n",
            "(992, 100, 100, 3)\n",
            "(800, 100, 100, 3)\n"
          ],
          "name": "stdout"
        }
      ]
    },
    {
      "cell_type": "code",
      "metadata": {
        "colab": {
          "base_uri": "https://localhost:8080/"
        },
        "id": "H1D6rYvA9and",
        "outputId": "8f71f60b-dfbd-4602-ebc6-f52eeed4914d"
      },
      "source": [
        "from keras.layers import Conv2D, MaxPooling2D, BatchNormalization, Activation, Dense, Flatten\n",
        "from tensorflow.keras.applications import VGG19\n",
        "\n",
        "\n",
        "data_augmentation = keras.Sequential(\n",
        "    [\n",
        "        keras.layers.experimental.preprocessing.RandomFlip(\"horizontal\"),\n",
        "        keras.layers.experimental.preprocessing.RandomRotation(0.1),\n",
        "        keras.layers.experimental.preprocessing.RandomZoom((0.2, 0.3)),\n",
        "    ]\n",
        ")\n",
        "\n",
        "\n",
        "base_model = tf.keras.applications.VGG19(input_shape=(100, 100, 3), include_top=False, weights='imagenet')\n",
        "for layer in base_model.layers[2:]:\n",
        "    layer.trainable = False\n",
        "# base_model.trainable =False\n",
        "flattening = tf.keras.layers.Flatten()\n",
        "pre_layer1 = tf.keras.layers.Dense(256,activation=\"relu\")\n",
        "pre_layer2 = tf.keras.layers.Dense(64, activation=\"relu\")\n",
        "prediction_layer = tf.keras.layers.Dense(2, activation=\"softmax\")\n",
        "\n",
        "inputs = tf.keras.Input(shape=(100, 100, 3))\n",
        "x = data_augmentation(inputs)\n",
        "x = base_model(x, training=True)\n",
        "# x = tf.keras.layers.Dropout(0.2)(x)\n",
        "x = flattening(x)\n",
        "x = pre_layer1(x)\n",
        "x=pre_layer2(x)\n",
        "outputs = prediction_layer(x)\n",
        "model = tf.keras.Model(inputs, outputs)\n",
        "model.summary()"
      ],
      "execution_count": null,
      "outputs": [
        {
          "output_type": "stream",
          "text": [
            "Model: \"model_1\"\n",
            "_________________________________________________________________\n",
            "Layer (type)                 Output Shape              Param #   \n",
            "=================================================================\n",
            "input_4 (InputLayer)         [(None, 100, 100, 3)]     0         \n",
            "_________________________________________________________________\n",
            "sequential_1 (Sequential)    (None, 100, 100, 3)       0         \n",
            "_________________________________________________________________\n",
            "vgg19 (Functional)           (None, 3, 3, 512)         20024384  \n",
            "_________________________________________________________________\n",
            "flatten_1 (Flatten)          (None, 4608)              0         \n",
            "_________________________________________________________________\n",
            "dense_3 (Dense)              (None, 256)               1179904   \n",
            "_________________________________________________________________\n",
            "dense_4 (Dense)              (None, 64)                16448     \n",
            "_________________________________________________________________\n",
            "dense_5 (Dense)              (None, 2)                 130       \n",
            "=================================================================\n",
            "Total params: 21,220,866\n",
            "Trainable params: 1,198,274\n",
            "Non-trainable params: 20,022,592\n",
            "_________________________________________________________________\n"
          ],
          "name": "stdout"
        }
      ]
    },
    {
      "cell_type": "code",
      "metadata": {
        "colab": {
          "base_uri": "https://localhost:8080/"
        },
        "id": "drfDjducDhpw",
        "outputId": "dc320c02-0ca2-44cc-e9cc-7351dd468269"
      },
      "source": [
        "model.compile(optimizer='adam',\n",
        "              loss=tf.keras.losses.CategoricalCrossentropy(from_logits=False),\n",
        "              metrics=['accuracy'])\n",
        "\n",
        "epochs = 10\n",
        "model.fit(train_images, train_labels, batch_size=32, epochs=epochs, validation_data=(val_images, val_labels), shuffle=True)"
      ],
      "execution_count": null,
      "outputs": [
        {
          "output_type": "stream",
          "text": [
            "Epoch 1/10\n",
            "313/313 [==============================] - 61s 88ms/step - loss: 0.0930 - accuracy: 0.9649 - val_loss: 0.0103 - val_accuracy: 0.9962\n",
            "Epoch 2/10\n",
            "313/313 [==============================] - 27s 85ms/step - loss: 0.0384 - accuracy: 0.9857 - val_loss: 0.0057 - val_accuracy: 0.9987\n",
            "Epoch 3/10\n",
            "313/313 [==============================] - 27s 87ms/step - loss: 0.0307 - accuracy: 0.9891 - val_loss: 0.0097 - val_accuracy: 0.9987\n",
            "Epoch 4/10\n",
            "313/313 [==============================] - 28s 90ms/step - loss: 0.0278 - accuracy: 0.9897 - val_loss: 0.0169 - val_accuracy: 0.9937\n",
            "Epoch 5/10\n",
            "313/313 [==============================] - 28s 88ms/step - loss: 0.0253 - accuracy: 0.9925 - val_loss: 0.0099 - val_accuracy: 0.9987\n",
            "Epoch 6/10\n",
            "313/313 [==============================] - 27s 87ms/step - loss: 0.0220 - accuracy: 0.9922 - val_loss: 0.0121 - val_accuracy: 0.9987\n",
            "Epoch 7/10\n",
            "313/313 [==============================] - 28s 89ms/step - loss: 0.0214 - accuracy: 0.9936 - val_loss: 0.0193 - val_accuracy: 0.9962\n",
            "Epoch 8/10\n",
            "313/313 [==============================] - 27s 87ms/step - loss: 0.0185 - accuracy: 0.9938 - val_loss: 0.0058 - val_accuracy: 0.9987\n",
            "Epoch 9/10\n",
            "313/313 [==============================] - 28s 88ms/step - loss: 0.0212 - accuracy: 0.9917 - val_loss: 0.0043 - val_accuracy: 0.9987\n",
            "Epoch 10/10\n",
            "313/313 [==============================] - 27s 88ms/step - loss: 0.0217 - accuracy: 0.9929 - val_loss: 0.0087 - val_accuracy: 0.9975\n"
          ],
          "name": "stdout"
        },
        {
          "output_type": "execute_result",
          "data": {
            "text/plain": [
              "<tensorflow.python.keras.callbacks.History at 0x7f69d171f7d0>"
            ]
          },
          "metadata": {
            "tags": []
          },
          "execution_count": 15
        }
      ]
    },
    {
      "cell_type": "code",
      "metadata": {
        "colab": {
          "base_uri": "https://localhost:8080/"
        },
        "id": "zJLGpEX3GIyR",
        "outputId": "ece6d31e-f380-47f1-e423-318bce3f58e8"
      },
      "source": [
        "# score the model\n",
        "score = model.evaluate(test_images, test_labels)\n",
        "print(\"loss: \", score[0])\n",
        "print(\"accuracy : \", score[1]*100, \"%\")"
      ],
      "execution_count": null,
      "outputs": [
        {
          "output_type": "stream",
          "text": [
            "31/31 [==============================] - 1s 42ms/step - loss: 0.0138 - accuracy: 0.9960\n",
            "loss:  0.013826403766870499\n",
            "accuracy :  99.59677457809448 %\n"
          ],
          "name": "stdout"
        }
      ]
    },
    {
      "cell_type": "code",
      "metadata": {
        "id": "Y8gizsLcQ84w"
      },
      "source": [
        "model.save(\"mask_detector.h5\")"
      ],
      "execution_count": null,
      "outputs": []
    },
    {
      "cell_type": "code",
      "metadata": {
        "colab": {
          "base_uri": "https://localhost:8080/"
        },
        "id": "HnA_sHNmmleI",
        "outputId": "3a4c00fa-0114-43bc-9854-30b8dc39cbc8"
      },
      "source": [
        "model.save(\"./\")"
      ],
      "execution_count": null,
      "outputs": [
        {
          "output_type": "stream",
          "text": [
            "INFO:tensorflow:Assets written to: ./assets\n"
          ],
          "name": "stdout"
        }
      ]
    },
    {
      "cell_type": "code",
      "metadata": {
        "id": "4lNyVeDhm8dG"
      },
      "source": [
        ""
      ],
      "execution_count": null,
      "outputs": []
    }
  ]
}
